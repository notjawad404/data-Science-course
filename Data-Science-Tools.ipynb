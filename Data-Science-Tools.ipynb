{
  "nbformat": 4,
  "nbformat_minor": 0,
  "metadata": {
    "colab": {
      "provenance": []
    },
    "kernelspec": {
      "name": "python3",
      "display_name": "Python 3"
    },
    "language_info": {
      "name": "python"
    }
  },
  "cells": [
    {
      "cell_type": "markdown",
      "source": [
        "**Final Assignment**"
      ],
      "metadata": {
        "id": "hiGk439XQvwf"
      }
    },
    {
      "cell_type": "markdown",
      "source": [
        "Hi, I am Jawad Ali. I am an undergraduate student from pakistan."
      ],
      "metadata": {
        "id": "fnh6M2LPQ8_w"
      }
    },
    {
      "cell_type": "markdown",
      "source": [
        "Data Science Languages are:\n",
        "  1. Python\n",
        "  2. R Language"
      ],
      "metadata": {
        "id": "XYOviNnFRQfg"
      }
    },
    {
      "cell_type": "markdown",
      "source": [
        "List of Data Science libraries:\n",
        "  1. Pandas\n",
        "  2. NumPy\n",
        "  3. SciPy\n",
        "  4. Scikit-learn\n",
        "  5. Matplotlib\n",
        "  6. Seaborn\n",
        "  7. Bokeh\n",
        "  8. Plotly\n",
        "  9. TensorFlow\n",
        "  10. PyTorch"
      ],
      "metadata": {
        "id": "nnb7e-BmRgDK"
      }
    },
    {
      "cell_type": "markdown",
      "source": [
        "Table of Data Science tools:\n",
        "\n",
        "| Tool | Language | Description |\n",
        "|---|---|---|\n",
        "| Pandas | Python | Library for data manipulation and analysis |\n",
        "| NumPy | Python | Library for scientific computing |\n",
        "| SciPy | Python | Library for scientific computing |\n",
        "| Scikit-learn | Python | Library for machine learning |\n",
        "| Matplotlib | Python | Library for plotting and visualization |\n",
        "| Seaborn | Python | Library for statistical plotting |\n",
        "| Bokeh | Python | Library for interactive visualization |\n",
        "| Plotly | Python | Library for interactive visualization |\n",
        "| TensorFlow | Python | Library for machine learning |\n",
        "| PyTorch | Python | Library for machine learning |\n",
        "| R | R | Programming language for statistical computing |\n",
        "| Java | Java | General-purpose programming language |\n",
        "| Scala | Scala | Programming language that is designed to be concise and expressive |\n"
      ],
      "metadata": {
        "id": "C1Trf7osSOmE"
      }
    },
    {
      "cell_type": "markdown",
      "source": [
        "Arithmetic Expression examples are:\n",
        "\n",
        "* 5 + 6 = 11\n",
        "* 7 - 3 = 4\n",
        "* 2 * 3 = 6\n",
        "* 10 / 2 = 5\n",
        "* (5 + 6) * 2 = 22\n",
        "* (10 - 3) / 2 = 3"
      ],
      "metadata": {
        "id": "i20QCnKiTCxl"
      }
    },
    {
      "cell_type": "code",
      "source": [
        "a = 2\n",
        "b = 4\n",
        "mul = a*b\n",
        "sum = a+b\n",
        "\n",
        "print(\"Multiplication of \",a,\" & \",b,\" = \", mul)\n",
        "print(\"Sum of \",a,\" & \",b,\" = \", sum)"
      ],
      "metadata": {
        "colab": {
          "base_uri": "https://localhost:8080/"
        },
        "id": "Topc3cIVTTv5",
        "outputId": "4b91f8ec-b9d2-4601-dbcf-bfc6ade90cbe"
      },
      "execution_count": 5,
      "outputs": [
        {
          "output_type": "stream",
          "name": "stdout",
          "text": [
            "Multiplication of  2  &  4  =  8\n",
            "Sum of  2  &  4  =  6\n"
          ]
        }
      ]
    },
    {
      "cell_type": "code",
      "source": [
        "hours = 2\n",
        "minutes  = hours * 60\n",
        "print(hours,\" hours = \",minutes, \" minutes\")"
      ],
      "metadata": {
        "colab": {
          "base_uri": "https://localhost:8080/"
        },
        "id": "jeSt21w2FzZK",
        "outputId": "7c8c8d8b-6369-42b7-f23f-1bafbfeef92c"
      },
      "execution_count": 3,
      "outputs": [
        {
          "output_type": "stream",
          "name": "stdout",
          "text": [
            "2  hours =  120  minutes\n"
          ]
        }
      ]
    },
    {
      "cell_type": "markdown",
      "source": [
        "List of obejctives of Data Science is:\n",
        "* Extract insights from data\n",
        "* Build predictive models\n",
        "* Improve decision-making\n",
        "* Automate tasks\n",
        "* Create new products and services"
      ],
      "metadata": {
        "id": "by2HdTzCGz24"
      }
    },
    {
      "cell_type": "markdown",
      "source": [
        "Author Name = **Jawad Ali**"
      ],
      "metadata": {
        "id": "Fn3t6VTfHIwo"
      }
    }
  ]
}